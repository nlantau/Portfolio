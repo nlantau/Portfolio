{
 "cells": [
  {
   "cell_type": "code",
   "execution_count": 3,
   "metadata": {},
   "outputs": [],
   "source": [
    "import E07T01"
   ]
  },
  {
   "cell_type": "code",
   "execution_count": 30,
   "metadata": {},
   "outputs": [],
   "source": [
    "import cProfile"
   ]
  },
  {
   "cell_type": "code",
   "execution_count": 31,
   "metadata": {},
   "outputs": [
    {
     "name": "stdout",
     "output_type": "stream",
     "text": [
      "\u001b[91m------------- Timer Start --------------\u001b[0m\n",
      "Elapsed time for executing function 'encrypt_msg':\n",
      "0.000034 seconds\n",
      "\u001b[93m-------------- Timer Stop --------------\u001b[0m\n",
      "         90 function calls in 0.000 seconds\n",
      "\n",
      "   Ordered by: standard name\n",
      "\n",
      "   ncalls  tottime  percall  cumtime  percall filename:lineno(function)\n",
      "        1    0.000    0.000    0.000    0.000 <string>:1(<module>)\n",
      "        1    0.000    0.000    0.000    0.000 E07T01.py:8(encrypt_msg)\n",
      "        5    0.000    0.000    0.000    0.000 iostream.py:197(schedule)\n",
      "        4    0.000    0.000    0.000    0.000 iostream.py:310(_is_master_process)\n",
      "        4    0.000    0.000    0.000    0.000 iostream.py:323(_schedule_flush)\n",
      "        4    0.000    0.000    0.000    0.000 iostream.py:386(write)\n",
      "        5    0.000    0.000    0.000    0.000 iostream.py:93(_event_pipe)\n",
      "        5    0.000    0.000    0.000    0.000 socket.py:342(send)\n",
      "        5    0.000    0.000    0.000    0.000 threading.py:1017(_wait_for_tstate_lock)\n",
      "        5    0.000    0.000    0.000    0.000 threading.py:1071(is_alive)\n",
      "        5    0.000    0.000    0.000    0.000 threading.py:513(is_set)\n",
      "        1    0.000    0.000    0.000    0.000 timer.py:22(wrapper)\n",
      "        5    0.000    0.000    0.000    0.000 {built-in method builtins.chr}\n",
      "        1    0.000    0.000    0.000    0.000 {built-in method builtins.exec}\n",
      "        4    0.000    0.000    0.000    0.000 {built-in method builtins.isinstance}\n",
      "        5    0.000    0.000    0.000    0.000 {built-in method builtins.ord}\n",
      "        2    0.000    0.000    0.000    0.000 {built-in method builtins.print}\n",
      "        4    0.000    0.000    0.000    0.000 {built-in method posix.getpid}\n",
      "        2    0.000    0.000    0.000    0.000 {built-in method time.perf_counter}\n",
      "        5    0.000    0.000    0.000    0.000 {method 'acquire' of '_thread.lock' objects}\n",
      "        5    0.000    0.000    0.000    0.000 {method 'append' of 'collections.deque' objects}\n",
      "        1    0.000    0.000    0.000    0.000 {method 'disable' of '_lsprof.Profiler' objects}\n",
      "        5    0.000    0.000    0.000    0.000 {method 'islower' of 'str' objects}\n",
      "        1    0.000    0.000    0.000    0.000 {method 'isupper' of 'str' objects}\n",
      "        5    0.000    0.000    0.000    0.000 {method 'join' of 'str' objects}\n",
      "\n",
      "\n"
     ]
    }
   ],
   "source": [
    "cProfile.run('E07T01.encrypt_msg(\"Hello\",2)')"
   ]
  },
  {
   "cell_type": "code",
   "execution_count": null,
   "metadata": {},
   "outputs": [],
   "source": []
  },
  {
   "cell_type": "code",
   "execution_count": null,
   "metadata": {},
   "outputs": [],
   "source": []
  }
 ],
 "metadata": {
  "kernelspec": {
   "display_name": "Python 3.8.2 64-bit",
   "language": "python",
   "name": "python38264bitcbde5856efbc4d8fb62272d79849a347"
  },
  "language_info": {
   "codemirror_mode": {
    "name": "ipython",
    "version": 3
   },
   "file_extension": ".py",
   "mimetype": "text/x-python",
   "name": "python",
   "nbconvert_exporter": "python",
   "pygments_lexer": "ipython3",
   "version": "3.8.2"
  }
 },
 "nbformat": 4,
 "nbformat_minor": 4
}
